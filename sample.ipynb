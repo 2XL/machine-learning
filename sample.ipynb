{
 "cells": [
  {
   "cell_type": "markdown",
   "metadata": {},
   "source": [
    "# Learning\n",
    "\n",
    "This notebook contains some simple examples of using jupyter notbook and python 3\n",
    "\n",
    "\n"
   ]
  },
  {
   "cell_type": "markdown",
   "metadata": {},
   "source": [
    "## Example 1: Hello World"
   ]
  },
  {
   "cell_type": "code",
   "execution_count": 9,
   "metadata": {},
   "outputs": [
    {
     "name": "stdout",
     "output_type": "stream",
     "text": [
      "Hello, Cheng \n\n\n"
     ]
    }
   ],
   "source": [
    "my_name = \"Cheng\"\n",
    "hello_statement = \"Hello, \" + my_name\n",
    "print hello_statement, \"\\n\\n\""
   ]
  },
  {
   "cell_type": "markdown",
   "metadata": {},
   "source": [
    "Example 2: World's *best* loop is here"
   ]
  },
  {
   "cell_type": "code",
   "execution_count": 14,
   "metadata": {},
   "outputs": [
    {
     "name": "stdout",
     "output_type": "stream",
     "text": [
      "j=1 x=11\nj=2 x=13\nj=3 x=16\nj=4 x=20\nj=5 x=25\nj=6 x=31\nj=7 x=38\nj=8 x=46\nj=9 x=55\n"
     ]
    }
   ],
   "source": [
    "x = 10\n",
    "for j in range(1,10):\n",
    "    x = x + j\n",
    "    print \"j={} x={}\".format(j, x)"
   ]
  },
  {
   "cell_type": "code",
   "execution_count": null,
   "metadata": {},
   "outputs": [],
   "source": []
  }
 ],
 "metadata": {},
 "nbformat": 4,
 "nbformat_minor": 0
}
