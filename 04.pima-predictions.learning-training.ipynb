{
 "cells": [
  {
   "cell_type": "markdown",
   "metadata": {},
   "source": [
    "# Machine Learning Training\n",
    "Letting specific data teach a machine learning algorithm to create specific prediction model."
   ]
  },
  {
   "cell_type": "markdown",
   "metadata": {},
   "source": [
    "- New data => better preditions\n",
    "- Verify training performance with new data."
   ]
  },
  {
   "cell_type": "markdown",
   "metadata": {},
   "source": [
    "## Training Overview\n",
    "\n",
    "1. Split Data\n",
    "\t- Prepared Data\n",
    "\t\t- Training (70%)\n",
    "\t\t- Testing (30%)\n",
    "2. Train Model\n",
    "\t- Train Model\n",
    "\t\t1. Algorithm\n",
    "\t\t2. Model\n",
    "3. Evaluate Model\n",
    "\n",
    "\n",
    "## Dependencies\n",
    "\n",
    "- *Scikit-learn* library designed to work with:\n",
    "\t1. NumPy\n",
    "\t2. SciPy\n",
    "\t3. Pandas\n",
    "\n",
    "\n",
    "## Toolset for training and evaluation tasks\n",
    "\n",
    "- Data splitting\n",
    "- Pre-processing\n",
    "- Feature selection\n",
    "- Model tuning\n",
    "\n",
    "Common interface across algorithms\n",
    "\n",
    "\t"
   ]
  },
  {
   "cell_type": "code",
   "execution_count": 1,
   "metadata": {},
   "outputs": [
    {
     "data": {
      "text/plain": [
       "(768, 10)"
      ]
     },
     "execution_count": 1,
     "metadata": {},
     "output_type": "execute_result"
    }
   ],
   "source": [
    "import pandas \n",
    "import matplotlib.pyplot\n",
    "import numpy\n",
    "\n",
    "# do ploting inline instead of in a separate window\n",
    "%matplotlib inline\n",
    "\n",
    "# \n",
    "df = pandas.read_csv(\"./data/pima-data.csv\")\n",
    "df.shape"
   ]
  },
  {
   "cell_type": "markdown",
   "metadata": {},
   "source": [
    "## Splitting the data\n",
    "70/30 - train/test"
   ]
  },
  {
   "cell_type": "code",
   "execution_count": 28,
   "metadata": {},
   "outputs": [],
   "source": [
    "from sklearn.model_selection import train_test_split\n",
    "\n",
    "feature_col_names = ['num_preg', 'glucose_conc', 'diastolic_bp', 'thickness', 'insulin','bmi', 'diab_pred', 'age']\n",
    "predicted_class_names = ['diabetes']\n",
    "\n",
    "X = df[feature_col_names].values # predictor feature columns (8 X m)\n",
    "Y = df[predicted_class_names].values # predicted class (1=True, 0=False) column (1 X m)\n",
    "split_test_size = 0.3\n",
    "\n",
    "\n",
    "\n",
    "X_train, X_test, Y_train, Y_test = train_test_split(X, Y, test_size=split_test_size, random_state=42)\n",
    "# test_size = 0.3 is 30% 42 is the answer to everything"
   ]
  },
  {
   "cell_type": "markdown",
   "metadata": {},
   "source": [
    "We check to ensure we hav the desired 70% train, 30% test split of the data"
   ]
  },
  {
   "cell_type": "code",
   "execution_count": 3,
   "metadata": {},
   "outputs": [
    {
     "name": "stdout",
     "output_type": "stream",
     "text": [
      "training set: \t 69.92%\ntesting set: \t 30.08%\n"
     ]
    }
   ],
   "source": [
    "from __future__ import division\n",
    "print \"training set: \\t {0:0.2f}%\".format(len(X_train)/len(df.index) * 100)\n",
    "print \"testing set: \\t {0:0.2f}%\".format(len(X_test)/len(df.index) * 100)"
   ]
  },
  {
   "cell_type": "markdown",
   "metadata": {},
   "source": [
    "Verify the splited data prediction values correlation"
   ]
  },
  {
   "cell_type": "code",
   "execution_count": 6,
   "metadata": {},
   "outputs": [
    {
     "name": "stdout",
     "output_type": "stream",
     "text": [
      "Original True  : 268 (34.90%)\nOriginal False : 500 (65.10%)\n\nTraining True  : 188 (35.01%)\nTraining False : 349 (64.99%)\n\nTest True      : 80 (34.63%)\nTest False     : 151 (65.37%)\n"
     ]
    }
   ],
   "source": [
    "print \"Original True  : {0} ({1:0.2f}%)\".format(len(df.loc[df['diabetes'] == 1]), (len(df.loc[df['diabetes'] == 1])/len(df.index)) * 100.0)\n",
    "print \"Original False : {0} ({1:0.2f}%)\".format(len(df.loc[df['diabetes'] == 0]), (len(df.loc[df['diabetes'] == 0])/len(df.index)) * 100.0)\n",
    "print \"\"\n",
    "print \"Training True  : {0} ({1:0.2f}%)\".format(len(Y_train[Y_train[:] == 1]), (len(Y_train[Y_train[:] == 1])/len(Y_train) * 100.0))\n",
    "print \"Training False : {0} ({1:0.2f}%)\".format(len(Y_train[Y_train[:] == 0]), (len(Y_train[Y_train[:] == 0])/len(Y_train) * 100.0))\n",
    "print \"\"\n",
    "print \"Test True      : {0} ({1:0.2f}%)\".format(len(Y_test[Y_test[:] == 1]), (len(Y_test[Y_test[:] == 1])/len(Y_test) * 100.0))\n",
    "print \"Test False     : {0} ({1:0.2f}%)\".format(len(Y_test[Y_test[:] == 0]), (len(Y_test[Y_test[:] == 0])/len(Y_test) * 100.0))\n"
   ]
  },
  {
   "cell_type": "markdown",
   "metadata": {},
   "source": [
    "### Post-split Data Preparation\n",
    "\n",
    "\n",
    "#### Hidding Missing Values\n",
    "\n"
   ]
  },
  {
   "cell_type": "code",
   "execution_count": 7,
   "metadata": {},
   "outputs": [
    {
     "name": "stdout",
     "output_type": "stream",
     "text": [
      "# rows in dataframe 768\n# rows missing glucose_conc: 5\n# rows missing diastolic_bp: 35\n# rows missing thickness: 227\n# rows missing insulin: 374\n# rows missing bmi: 11\n# rows missing diab_pred: 0\n# rows missing age: 0\n"
     ]
    }
   ],
   "source": [
    "print \"# rows in dataframe {0}\".format(len(df))\n",
    "print \"# rows missing glucose_conc: {0}\".format(len(df.loc[df['glucose_conc'] == 0]))\n",
    "print \"# rows missing diastolic_bp: {0}\".format(len(df.loc[df['diastolic_bp'] == 0]))\n",
    "print \"# rows missing thickness: {0}\".format(len(df.loc[df['thickness'] == 0]))\n",
    "print \"# rows missing insulin: {0}\".format(len(df.loc[df['insulin'] == 0]))\n",
    "print \"# rows missing bmi: {0}\".format(len(df.loc[df['bmi'] == 0]))\n",
    "print \"# rows missing diab_pred: {0}\".format(len(df.loc[df['diab_pred'] == 0]))\n",
    "print \"# rows missing age: {0}\".format(len(df.loc[df['age'] == 0]))"
   ]
  },
  {
   "cell_type": "markdown",
   "metadata": {},
   "source": [
    "Impute with the mean"
   ]
  },
  {
   "cell_type": "code",
   "execution_count": 21,
   "metadata": {},
   "outputs": [],
   "source": [
    "from sklearn.impute import SimpleImputer as Imputer\n",
    "\n",
    "# Impute with mean all 0 readings\n",
    "fill_0 = Imputer(missing_values=0, strategy=\"mean\")\n",
    "X_train = fill_0.fit(X_train)\n",
    "X_test = fill_0.fit_transform(X_test)\n"
   ]
  },
  {
   "cell_type": "markdown",
   "metadata": {},
   "source": [
    "## Training Initial Algorithm - Naive Bayes"
   ]
  },
  {
   "cell_type": "code",
   "execution_count": 29,
   "metadata": {},
   "outputs": [
    {
     "data": {
      "text/plain": [
       "GaussianNB(priors=None, var_smoothing=1e-09)"
      ]
     },
     "execution_count": 29,
     "metadata": {},
     "output_type": "execute_result"
    }
   ],
   "source": [
    "from sklearn.naive_bayes import GaussianNB\n",
    "\n",
    "# create Gaussian Naive Bayes model object and train it with the data\n",
    "nb_model = GaussianNB()\n",
    "nb_model.fit(X_train, Y_train.ravel())"
   ]
  }
 ],
 "metadata": {},
 "nbformat": 4,
 "nbformat_minor": 0
}
